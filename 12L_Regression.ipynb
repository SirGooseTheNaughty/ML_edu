{
 "cells": [
  {
   "cell_type": "markdown",
   "metadata": {
    "id": "POmGaH-pGCwm"
   },
   "source": [
    "# Настройка ноутбука\n",
    "\n",
    "Любой исследовательский ноутбук должен начинаться с того, что мы устанавливаем необходимые пакеты для дальнейшей работы - не забывайте этого делать при создании ноутбуков для лабораторных! Делается это вот так:"
   ]
  },
  {
   "cell_type": "code",
   "execution_count": 1,
   "metadata": {
    "colab": {
     "base_uri": "https://localhost:8080/",
     "height": 440
    },
    "executionInfo": {
     "elapsed": 10724,
     "status": "ok",
     "timestamp": 1600615333527,
     "user": {
      "displayName": "Алексей Девяткин",
      "photoUrl": "",
      "userId": "11945040185410340858"
     },
     "user_tz": -180
    },
    "id": "q-UeYBkhGEqO",
    "outputId": "17e072c9-c338-4778-cd7e-f73a70e60112"
   },
   "outputs": [
    {
     "name": "stdout",
     "output_type": "stream",
     "text": [
      "Collecting numpy==1.19.0\n",
      "  Downloading https://files.pythonhosted.org/packages/72/dd/fcb5046365a1c3edd8e6d5824e58a1065682b90d475dceac0d55f68764c3/numpy-1.19.0-cp37-cp37m-win_amd64.whl (13.0MB)\n",
      "Installing collected packages: numpy\n",
      "  Found existing installation: numpy 1.18.5\n",
      "    Uninstalling numpy-1.18.5:\n",
      "      Successfully uninstalled numpy-1.18.5\n",
      "Successfully installed numpy-1.19.0\n",
      "Collecting matplotlib==3.3.0\n",
      "  Downloading https://files.pythonhosted.org/packages/4d/7c/dcc6b3315f865285332bccf663fa82e441bed095246006918a44fdee5bdb/matplotlib-3.3.0-cp37-cp37m-win_amd64.whl (8.8MB)\n",
      "Requirement already satisfied: kiwisolver>=1.0.1 in e:\\anaconda\\lib\\site-packages (from matplotlib==3.3.0) (1.1.0)\n",
      "Requirement already satisfied: python-dateutil>=2.1 in e:\\anaconda\\lib\\site-packages (from matplotlib==3.3.0) (2.8.0)\n",
      "Requirement already satisfied: cycler>=0.10 in e:\\anaconda\\lib\\site-packages (from matplotlib==3.3.0) (0.10.0)\n",
      "Requirement already satisfied: numpy>=1.15 in e:\\anaconda\\lib\\site-packages (from matplotlib==3.3.0) (1.19.0)\n",
      "Requirement already satisfied: pyparsing!=2.0.4,!=2.1.2,!=2.1.6,>=2.0.3 in e:\\anaconda\\lib\\site-packages (from matplotlib==3.3.0) (2.4.2)\n",
      "Requirement already satisfied: pillow>=6.2.0 in e:\\anaconda\\lib\\site-packages (from matplotlib==3.3.0) (6.2.0)\n",
      "Requirement already satisfied: setuptools in e:\\anaconda\\lib\\site-packages (from kiwisolver>=1.0.1->matplotlib==3.3.0) (41.4.0)\n",
      "Requirement already satisfied: six>=1.5 in e:\\anaconda\\lib\\site-packages (from python-dateutil>=2.1->matplotlib==3.3.0) (1.12.0)\n",
      "Installing collected packages: matplotlib\n",
      "  Found existing installation: matplotlib 3.3.1\n",
      "    Uninstalling matplotlib-3.3.1:\n",
      "      Successfully uninstalled matplotlib-3.3.1\n",
      "Successfully installed matplotlib-3.3.0\n",
      "Collecting seaborn==0.11.0\n",
      "  Downloading https://files.pythonhosted.org/packages/bc/45/5118a05b0d61173e6eb12bc5804f0fbb6f196adb0a20e0b16efc2b8e98be/seaborn-0.11.0-py3-none-any.whl (283kB)\n",
      "Requirement already satisfied: numpy>=1.15 in e:\\anaconda\\lib\\site-packages (from seaborn==0.11.0) (1.19.0)\n",
      "Requirement already satisfied: scipy>=1.0 in e:\\anaconda\\lib\\site-packages (from seaborn==0.11.0) (1.3.1)\n",
      "Requirement already satisfied: pandas>=0.23 in e:\\anaconda\\lib\\site-packages (from seaborn==0.11.0) (1.0.0)\n",
      "Requirement already satisfied: matplotlib>=2.2 in e:\\anaconda\\lib\\site-packages (from seaborn==0.11.0) (3.3.0)\n",
      "Requirement already satisfied: pytz>=2017.2 in e:\\anaconda\\lib\\site-packages (from pandas>=0.23->seaborn==0.11.0) (2019.3)\n",
      "Requirement already satisfied: python-dateutil>=2.6.1 in e:\\anaconda\\lib\\site-packages (from pandas>=0.23->seaborn==0.11.0) (2.8.0)\n",
      "Requirement already satisfied: kiwisolver>=1.0.1 in e:\\anaconda\\lib\\site-packages (from matplotlib>=2.2->seaborn==0.11.0) (1.1.0)\n",
      "Requirement already satisfied: pyparsing!=2.0.4,!=2.1.2,!=2.1.6,>=2.0.3 in e:\\anaconda\\lib\\site-packages (from matplotlib>=2.2->seaborn==0.11.0) (2.4.2)\n",
      "Requirement already satisfied: cycler>=0.10 in e:\\anaconda\\lib\\site-packages (from matplotlib>=2.2->seaborn==0.11.0) (0.10.0)\n",
      "Requirement already satisfied: pillow>=6.2.0 in e:\\anaconda\\lib\\site-packages (from matplotlib>=2.2->seaborn==0.11.0) (6.2.0)\n",
      "Requirement already satisfied: six>=1.5 in e:\\anaconda\\lib\\site-packages (from python-dateutil>=2.6.1->pandas>=0.23->seaborn==0.11.0) (1.12.0)\n",
      "Requirement already satisfied: setuptools in e:\\anaconda\\lib\\site-packages (from kiwisolver>=1.0.1->matplotlib>=2.2->seaborn==0.11.0) (41.4.0)\n",
      "Installing collected packages: seaborn\n",
      "  Found existing installation: seaborn 0.10.1\n",
      "    Uninstalling seaborn-0.10.1:\n",
      "      Successfully uninstalled seaborn-0.10.1\n",
      "Successfully installed seaborn-0.11.0\n",
      "Requirement already satisfied: pandas==1.0.0 in e:\\anaconda\\lib\\site-packages (1.0.0)\n",
      "Requirement already satisfied: python-dateutil>=2.6.1 in e:\\anaconda\\lib\\site-packages (from pandas==1.0.0) (2.8.0)\n",
      "Requirement already satisfied: numpy>=1.13.3 in e:\\anaconda\\lib\\site-packages (from pandas==1.0.0) (1.19.0)\n",
      "Requirement already satisfied: pytz>=2017.2 in e:\\anaconda\\lib\\site-packages (from pandas==1.0.0) (2019.3)\n",
      "Requirement already satisfied: six>=1.5 in e:\\anaconda\\lib\\site-packages (from python-dateutil>=2.6.1->pandas==1.0.0) (1.12.0)\n"
     ]
    }
   ],
   "source": [
    "!pip install numpy==1.19.0\n",
    "!pip install matplotlib==3.3.0\n",
    "!pip install seaborn==0.11.0\n",
    "!pip install pandas==1.0.0"
   ]
  },
  {
   "cell_type": "code",
   "execution_count": 2,
   "metadata": {
    "id": "9uR9og5nnoAz"
   },
   "outputs": [],
   "source": [
    "# Импорт необходимых модулей \n",
    "import matplotlib\n",
    "import seaborn as sns\n",
    "import matplotlib.pyplot as plt\n",
    "import numpy as np\n",
    "import pandas as pd\n",
    "\n",
    "# Настройки для визуализации\n",
    "# Если используется темная тема - лучше текст сделать белым\n",
    "TEXT_COLOR = 'black'\n",
    "\n",
    "matplotlib.rcParams['figure.figsize'] = (15, 10)\n",
    "matplotlib.rcParams['text.color'] = 'black'\n",
    "matplotlib.rcParams['font.size'] = 14\n",
    "matplotlib.rcParams['axes.labelcolor'] = TEXT_COLOR\n",
    "matplotlib.rcParams['xtick.color'] = TEXT_COLOR\n",
    "matplotlib.rcParams['ytick.color'] = TEXT_COLOR\n",
    "\n",
    "# Зафиксируем состояние случайных чисел\n",
    "RANDOM_STATE = 42\n",
    "np.random.seed(RANDOM_STATE)"
   ]
  },
  {
   "cell_type": "markdown",
   "metadata": {
    "id": "AR7dYaQwWVPN"
   },
   "source": [
    "# Линейная регрессия"
   ]
  },
  {
   "cell_type": "markdown",
   "metadata": {
    "id": "HDlYk72EBIHz"
   },
   "source": [
    "Это наша первая работа, в которой мы коснемся реальных (ну почти) данных! Представльте себе, что к нам пришел интересующийся человек и хочет автоматически устанавливать цены на дома! И вот чудо, у него есть данные за последнее время, которые показывают пример того, как цены были установлены! Давайте постараемся помочь с этой нелегкой задачкой!\n",
    "\n",
    "После того, как мы на практике познакомились с линейной регрессией - самое время применить ее на реальных данных. Для разработки и оценки будем использовать инструменты библиотеки `scikit-learn` (или сокращенно `sklearn`).\n",
    "\n",
    "[Официальный сайт](https://scikit-learn.org/stable/) и [документация по API](https://scikit-learn.org/stable/modules/classes.html) (Application Program Interface - функции библиотеки) дают огромное количество полезной информации."
   ]
  },
  {
   "cell_type": "markdown",
   "metadata": {
    "id": "gQzSgYoLDNls"
   },
   "source": [
    "# Базовый анализ данных\n",
    "\n",
    "В базовом анализе можно отметить следующие задачи:\n",
    "- загрузка данных;\n",
    "- ознакомление с данными, определение смысла переменных;\n",
    "- поиск и устранение пропусков в данных;\n",
    "- удаление неинформативных признаков;\n",
    "- преобразование признаков к числовому виду (например, текст, аудио или картинка переводятся в числовое представление).\n",
    "\n",
    "По сути главной целью базового анализа является минимальная подготовка данных для построения базовой модели (baseline). Минимальная подготовка - все данные привести к числовому виду, так как модели могут работать только с числовыми матрицами без пропусков."
   ]
  },
  {
   "cell_type": "markdown",
   "metadata": {
    "id": "tlohmlyAh5Ey"
   },
   "source": [
    "## Загрузка данных"
   ]
  },
  {
   "cell_type": "markdown",
   "metadata": {
    "id": "muPehow-DSay"
   },
   "source": [
    "Для построения модели будет взят набор данных Boston House-Price, который представляет собой информацию о домах в Бостоне. Данный набор поставляется вместе с фреймворком `scikit-learn` и загружается следующим образом. Информацию о нем можно найти на официальном сайте https://scikit-learn.org/stable/datasets/index.html#boston-dataset."
   ]
  },
  {
   "cell_type": "code",
   "execution_count": 3,
   "metadata": {
    "colab": {
     "base_uri": "https://localhost:8080/",
     "height": 33
    },
    "executionInfo": {
     "elapsed": 10691,
     "status": "ok",
     "timestamp": 1600615333529,
     "user": {
      "displayName": "Алексей Девяткин",
      "photoUrl": "",
      "userId": "11945040185410340858"
     },
     "user_tz": -180
    },
    "id": "rC281yMxkzbe",
    "outputId": "2850ce4f-c9b9-4060-c202-6e16cb3173cb"
   },
   "outputs": [
    {
     "name": "stdout",
     "output_type": "stream",
     "text": [
      "<class 'sklearn.utils.Bunch'>\n"
     ]
    }
   ],
   "source": [
    "from sklearn.datasets import load_boston\n",
    "\n",
    "boston_data = load_boston()\n",
    "print(type(boston_data))"
   ]
  },
  {
   "cell_type": "markdown",
   "metadata": {
    "id": "02AT0H0RGEMY"
   },
   "source": [
    "Переменная `boston_data` является типом (`Bunch`), похожим на тип `dict`, который хранит данные под ключами. В описании можно найти следующие важные ключи:\n",
    "- `DESCR` - описание набора данных;\n",
    "- `data` - данные (признаки) в формате матрицы 2D с размерностью [кол-во примеров, кол-во признаков];\n",
    "- `feature_names` - названия признаков;\n",
    "- `target` - значения целевой переменной для предсказания в формате вектора 1D по кол-ву примеров.\n",
    "\n",
    "> Описание на сайте дает много дополнительной информации, но полученные ключи уже предоставляют необходимую информацию, так как `sklearn` хранит данные в собственном формате. После того, как будут получены данные, лучшей практикой является провести самостоятельный анализ для исключения возможных ошибок в описании.\n"
   ]
  },
  {
   "cell_type": "markdown",
   "metadata": {
    "id": "HI9eZpOVHT0q"
   },
   "source": [
    "Начнем с получения описания набора данных."
   ]
  },
  {
   "cell_type": "code",
   "execution_count": 4,
   "metadata": {
    "colab": {
     "base_uri": "https://localhost:8080/",
     "height": 846
    },
    "executionInfo": {
     "elapsed": 10671,
     "status": "ok",
     "timestamp": 1600615333530,
     "user": {
      "displayName": "Алексей Девяткин",
      "photoUrl": "",
      "userId": "11945040185410340858"
     },
     "user_tz": -180
    },
    "id": "UO7Hu2EaGBgo",
    "outputId": "68205586-49ed-45e5-9192-17526a7759b4"
   },
   "outputs": [
    {
     "name": "stdout",
     "output_type": "stream",
     "text": [
      ".. _boston_dataset:\n",
      "\n",
      "Boston house prices dataset\n",
      "---------------------------\n",
      "\n",
      "**Data Set Characteristics:**  \n",
      "\n",
      "    :Number of Instances: 506 \n",
      "\n",
      "    :Number of Attributes: 13 numeric/categorical predictive. Median Value (attribute 14) is usually the target.\n",
      "\n",
      "    :Attribute Information (in order):\n",
      "        - CRIM     per capita crime rate by town\n",
      "        - ZN       proportion of residential land zoned for lots over 25,000 sq.ft.\n",
      "        - INDUS    proportion of non-retail business acres per town\n",
      "        - CHAS     Charles River dummy variable (= 1 if tract bounds river; 0 otherwise)\n",
      "        - NOX      nitric oxides concentration (parts per 10 million)\n",
      "        - RM       average number of rooms per dwelling\n",
      "        - AGE      proportion of owner-occupied units built prior to 1940\n",
      "        - DIS      weighted distances to five Boston employment centres\n",
      "        - RAD      index of accessibility to radial highways\n",
      "        - TAX      full-value property-tax rate per $10,000\n",
      "        - PTRATIO  pupil-teacher ratio by town\n",
      "        - B        1000(Bk - 0.63)^2 where Bk is the proportion of blacks by town\n",
      "        - LSTAT    % lower status of the population\n",
      "        - MEDV     Median value of owner-occupied homes in $1000's\n",
      "\n",
      "    :Missing Attribute Values: None\n",
      "\n",
      "    :Creator: Harrison, D. and Rubinfeld, D.L.\n",
      "\n",
      "This is a copy of UCI ML housing dataset.\n",
      "https://archive.ics.uci.edu/ml/machine-learning-databases/housing/\n",
      "\n",
      "\n",
      "This dataset was taken from the StatLib library which is maintained at Carnegie Mellon University.\n",
      "\n",
      "The Boston house-price data of Harrison, D. and Rubinfeld, D.L. 'Hedonic\n",
      "prices and the demand for clean air', J. Environ. Economics & Management,\n",
      "vol.5, 81-102, 1978.   Used in Belsley, Kuh & Welsch, 'Regression diagnostics\n",
      "...', Wiley, 1980.   N.B. Various transformations are used in the table on\n",
      "pages 244-261 of the latter.\n",
      "\n",
      "The Boston house-price data has been used in many machine learning papers that address regression\n",
      "problems.   \n",
      "     \n",
      ".. topic:: References\n",
      "\n",
      "   - Belsley, Kuh & Welsch, 'Regression diagnostics: Identifying Influential Data and Sources of Collinearity', Wiley, 1980. 244-261.\n",
      "   - Quinlan,R. (1993). Combining Instance-Based and Model-Based Learning. In Proceedings on the Tenth International Conference of Machine Learning, 236-243, University of Massachusetts, Amherst. Morgan Kaufmann.\n",
      "\n"
     ]
    }
   ],
   "source": [
    "print(boston_data['DESCR'])"
   ]
  },
  {
   "cell_type": "markdown",
   "metadata": {
    "id": "qslkDNJUIXgO"
   },
   "source": [
    "Описание в загруженных данных во многом повторяет описание с сайта, но наиболее важными данными являются описания признаков в данных. \n",
    "\n",
    "> Одной из важных особенностей работы с данными является их \"понимание\". Без понимания признаков и целевой переменной анализ данных теряет возможность применения некоторых методик, которые позволяют обработать данные."
   ]
  },
  {
   "cell_type": "markdown",
   "metadata": {
    "id": "hCSkyuB-Ighh"
   },
   "source": [
    "В данном датасете мы видим различные признаки, которые так или иначе описывают жилье. Всего заявлено 13 признаков (независимых переменных). Целевая переменная является медианным значение стоимости жилья."
   ]
  },
  {
   "cell_type": "markdown",
   "metadata": {
    "id": "N7wiVtMPJOK0"
   },
   "source": [
    "Проверим размерности матрицы признаков и вектора предсказываемых значений. Так как они имеет тип `ndarray` (массив фреймворка `numpy`), то мы можем воспользоваться членом класса `.shape`, который является кортежем с элементами в виде размерности массива. Также, проверим тип данных через встроенную функцию Python - `type()`."
   ]
  },
  {
   "cell_type": "code",
   "execution_count": 5,
   "metadata": {
    "colab": {
     "base_uri": "https://localhost:8080/",
     "height": 82
    },
    "executionInfo": {
     "elapsed": 10652,
     "status": "ok",
     "timestamp": 1600615333531,
     "user": {
      "displayName": "Алексей Девяткин",
      "photoUrl": "",
      "userId": "11945040185410340858"
     },
     "user_tz": -180
    },
    "id": "EFptO510JVOm",
    "outputId": "e26db263-adbd-455c-d663-5df769200ccd"
   },
   "outputs": [
    {
     "name": "stdout",
     "output_type": "stream",
     "text": [
      "<class 'numpy.ndarray'>\n",
      "<class 'numpy.ndarray'>\n",
      "(506, 13)\n",
      "(506,)\n"
     ]
    }
   ],
   "source": [
    "feature_data = boston_data['data']\n",
    "feature_names = boston_data['feature_names']\n",
    "target_data = boston_data['target']\n",
    "\n",
    "print(type(feature_data))\n",
    "print(type(target_data))\n",
    "\n",
    "print(feature_data.shape)\n",
    "print(target_data.shape)"
   ]
  },
  {
   "cell_type": "markdown",
   "metadata": {
    "id": "DsF5NW4LJtRF"
   },
   "source": [
    "Отлично, размерности и тип соответствуют описанию. Теперь посмотрим, что содержит последний ключ."
   ]
  },
  {
   "cell_type": "code",
   "execution_count": 6,
   "metadata": {
    "colab": {
     "base_uri": "https://localhost:8080/",
     "height": 50
    },
    "executionInfo": {
     "elapsed": 10634,
     "status": "ok",
     "timestamp": 1600615333532,
     "user": {
      "displayName": "Алексей Девяткин",
      "photoUrl": "",
      "userId": "11945040185410340858"
     },
     "user_tz": -180
    },
    "id": "BMh2LnHhXI7b",
    "outputId": "e4090ae4-d4b3-4f05-e193-58c9ce2ee220"
   },
   "outputs": [
    {
     "data": {
      "text/plain": [
       "array(['CRIM', 'ZN', 'INDUS', 'CHAS', 'NOX', 'RM', 'AGE', 'DIS', 'RAD',\n",
       "       'TAX', 'PTRATIO', 'B', 'LSTAT'], dtype='<U7')"
      ]
     },
     "execution_count": 6,
     "metadata": {},
     "output_type": "execute_result"
    }
   ],
   "source": [
    "feature_names"
   ]
  },
  {
   "cell_type": "markdown",
   "metadata": {
    "id": "R5MI5hV0XQTe"
   },
   "source": [
    "Названия признаков соответсвуют описанию."
   ]
  },
  {
   "cell_type": "markdown",
   "metadata": {
    "id": "qfNb1BBmI2aL"
   },
   "source": [
    "Для дальнейшей работы с данными рекомендуется перевести данные в формат фреймворка `pandas`, так как данные имеют матричный формат и работа в данном фреймворке позволит удобно организовать анализ."
   ]
  },
  {
   "cell_type": "code",
   "execution_count": 7,
   "metadata": {
    "colab": {
     "base_uri": "https://localhost:8080/",
     "height": 191
    },
    "executionInfo": {
     "elapsed": 10616,
     "status": "ok",
     "timestamp": 1600615333532,
     "user": {
      "displayName": "Алексей Девяткин",
      "photoUrl": "",
      "userId": "11945040185410340858"
     },
     "user_tz": -180
    },
    "id": "-8LyvABJGCxV",
    "outputId": "42fa7817-69d0-4d22-d6d2-9edab0bb0482"
   },
   "outputs": [
    {
     "data": {
      "text/html": [
       "<div>\n",
       "<style scoped>\n",
       "    .dataframe tbody tr th:only-of-type {\n",
       "        vertical-align: middle;\n",
       "    }\n",
       "\n",
       "    .dataframe tbody tr th {\n",
       "        vertical-align: top;\n",
       "    }\n",
       "\n",
       "    .dataframe thead th {\n",
       "        text-align: right;\n",
       "    }\n",
       "</style>\n",
       "<table border=\"1\" class=\"dataframe\">\n",
       "  <thead>\n",
       "    <tr style=\"text-align: right;\">\n",
       "      <th></th>\n",
       "      <th>CRIM</th>\n",
       "      <th>ZN</th>\n",
       "      <th>INDUS</th>\n",
       "      <th>CHAS</th>\n",
       "      <th>NOX</th>\n",
       "      <th>RM</th>\n",
       "      <th>AGE</th>\n",
       "      <th>DIS</th>\n",
       "      <th>RAD</th>\n",
       "      <th>TAX</th>\n",
       "      <th>PTRATIO</th>\n",
       "      <th>B</th>\n",
       "      <th>LSTAT</th>\n",
       "    </tr>\n",
       "  </thead>\n",
       "  <tbody>\n",
       "    <tr>\n",
       "      <th>0</th>\n",
       "      <td>0.00632</td>\n",
       "      <td>18.0</td>\n",
       "      <td>2.31</td>\n",
       "      <td>0.0</td>\n",
       "      <td>0.538</td>\n",
       "      <td>6.575</td>\n",
       "      <td>65.2</td>\n",
       "      <td>4.0900</td>\n",
       "      <td>1.0</td>\n",
       "      <td>296.0</td>\n",
       "      <td>15.3</td>\n",
       "      <td>396.90</td>\n",
       "      <td>4.98</td>\n",
       "    </tr>\n",
       "    <tr>\n",
       "      <th>1</th>\n",
       "      <td>0.02731</td>\n",
       "      <td>0.0</td>\n",
       "      <td>7.07</td>\n",
       "      <td>0.0</td>\n",
       "      <td>0.469</td>\n",
       "      <td>6.421</td>\n",
       "      <td>78.9</td>\n",
       "      <td>4.9671</td>\n",
       "      <td>2.0</td>\n",
       "      <td>242.0</td>\n",
       "      <td>17.8</td>\n",
       "      <td>396.90</td>\n",
       "      <td>9.14</td>\n",
       "    </tr>\n",
       "    <tr>\n",
       "      <th>2</th>\n",
       "      <td>0.02729</td>\n",
       "      <td>0.0</td>\n",
       "      <td>7.07</td>\n",
       "      <td>0.0</td>\n",
       "      <td>0.469</td>\n",
       "      <td>7.185</td>\n",
       "      <td>61.1</td>\n",
       "      <td>4.9671</td>\n",
       "      <td>2.0</td>\n",
       "      <td>242.0</td>\n",
       "      <td>17.8</td>\n",
       "      <td>392.83</td>\n",
       "      <td>4.03</td>\n",
       "    </tr>\n",
       "    <tr>\n",
       "      <th>3</th>\n",
       "      <td>0.03237</td>\n",
       "      <td>0.0</td>\n",
       "      <td>2.18</td>\n",
       "      <td>0.0</td>\n",
       "      <td>0.458</td>\n",
       "      <td>6.998</td>\n",
       "      <td>45.8</td>\n",
       "      <td>6.0622</td>\n",
       "      <td>3.0</td>\n",
       "      <td>222.0</td>\n",
       "      <td>18.7</td>\n",
       "      <td>394.63</td>\n",
       "      <td>2.94</td>\n",
       "    </tr>\n",
       "    <tr>\n",
       "      <th>4</th>\n",
       "      <td>0.06905</td>\n",
       "      <td>0.0</td>\n",
       "      <td>2.18</td>\n",
       "      <td>0.0</td>\n",
       "      <td>0.458</td>\n",
       "      <td>7.147</td>\n",
       "      <td>54.2</td>\n",
       "      <td>6.0622</td>\n",
       "      <td>3.0</td>\n",
       "      <td>222.0</td>\n",
       "      <td>18.7</td>\n",
       "      <td>396.90</td>\n",
       "      <td>5.33</td>\n",
       "    </tr>\n",
       "  </tbody>\n",
       "</table>\n",
       "</div>"
      ],
      "text/plain": [
       "      CRIM    ZN  INDUS  CHAS    NOX     RM   AGE     DIS  RAD    TAX  \\\n",
       "0  0.00632  18.0   2.31   0.0  0.538  6.575  65.2  4.0900  1.0  296.0   \n",
       "1  0.02731   0.0   7.07   0.0  0.469  6.421  78.9  4.9671  2.0  242.0   \n",
       "2  0.02729   0.0   7.07   0.0  0.469  7.185  61.1  4.9671  2.0  242.0   \n",
       "3  0.03237   0.0   2.18   0.0  0.458  6.998  45.8  6.0622  3.0  222.0   \n",
       "4  0.06905   0.0   2.18   0.0  0.458  7.147  54.2  6.0622  3.0  222.0   \n",
       "\n",
       "   PTRATIO       B  LSTAT  \n",
       "0     15.3  396.90   4.98  \n",
       "1     17.8  396.90   9.14  \n",
       "2     17.8  392.83   4.03  \n",
       "3     18.7  394.63   2.94  \n",
       "4     18.7  396.90   5.33  "
      ]
     },
     "execution_count": 7,
     "metadata": {},
     "output_type": "execute_result"
    }
   ],
   "source": [
    "df = pd.DataFrame(feature_data, columns=boston_data['feature_names'])\n",
    "\n",
    "df.head()"
   ]
  },
  {
   "cell_type": "markdown",
   "metadata": {
    "id": "M_oTCsKEKdGR"
   },
   "source": [
    "Для дальнейшего анализа включим значения целевых переменных в `DataFrame` под собственным именем."
   ]
  },
  {
   "cell_type": "code",
   "execution_count": 8,
   "metadata": {
    "colab": {
     "base_uri": "https://localhost:8080/",
     "height": 191
    },
    "executionInfo": {
     "elapsed": 10599,
     "status": "ok",
     "timestamp": 1600615333533,
     "user": {
      "displayName": "Алексей Девяткин",
      "photoUrl": "",
      "userId": "11945040185410340858"
     },
     "user_tz": -180
    },
    "id": "OTSt4MhtJK3D",
    "outputId": "59549a50-0bb5-4dc5-fb0f-e76104eb9197"
   },
   "outputs": [
    {
     "data": {
      "text/html": [
       "<div>\n",
       "<style scoped>\n",
       "    .dataframe tbody tr th:only-of-type {\n",
       "        vertical-align: middle;\n",
       "    }\n",
       "\n",
       "    .dataframe tbody tr th {\n",
       "        vertical-align: top;\n",
       "    }\n",
       "\n",
       "    .dataframe thead th {\n",
       "        text-align: right;\n",
       "    }\n",
       "</style>\n",
       "<table border=\"1\" class=\"dataframe\">\n",
       "  <thead>\n",
       "    <tr style=\"text-align: right;\">\n",
       "      <th></th>\n",
       "      <th>CRIM</th>\n",
       "      <th>ZN</th>\n",
       "      <th>INDUS</th>\n",
       "      <th>CHAS</th>\n",
       "      <th>NOX</th>\n",
       "      <th>RM</th>\n",
       "      <th>AGE</th>\n",
       "      <th>DIS</th>\n",
       "      <th>RAD</th>\n",
       "      <th>TAX</th>\n",
       "      <th>PTRATIO</th>\n",
       "      <th>B</th>\n",
       "      <th>LSTAT</th>\n",
       "      <th>PRICE</th>\n",
       "    </tr>\n",
       "  </thead>\n",
       "  <tbody>\n",
       "    <tr>\n",
       "      <th>0</th>\n",
       "      <td>0.00632</td>\n",
       "      <td>18.0</td>\n",
       "      <td>2.31</td>\n",
       "      <td>0.0</td>\n",
       "      <td>0.538</td>\n",
       "      <td>6.575</td>\n",
       "      <td>65.2</td>\n",
       "      <td>4.0900</td>\n",
       "      <td>1.0</td>\n",
       "      <td>296.0</td>\n",
       "      <td>15.3</td>\n",
       "      <td>396.90</td>\n",
       "      <td>4.98</td>\n",
       "      <td>24.0</td>\n",
       "    </tr>\n",
       "    <tr>\n",
       "      <th>1</th>\n",
       "      <td>0.02731</td>\n",
       "      <td>0.0</td>\n",
       "      <td>7.07</td>\n",
       "      <td>0.0</td>\n",
       "      <td>0.469</td>\n",
       "      <td>6.421</td>\n",
       "      <td>78.9</td>\n",
       "      <td>4.9671</td>\n",
       "      <td>2.0</td>\n",
       "      <td>242.0</td>\n",
       "      <td>17.8</td>\n",
       "      <td>396.90</td>\n",
       "      <td>9.14</td>\n",
       "      <td>21.6</td>\n",
       "    </tr>\n",
       "    <tr>\n",
       "      <th>2</th>\n",
       "      <td>0.02729</td>\n",
       "      <td>0.0</td>\n",
       "      <td>7.07</td>\n",
       "      <td>0.0</td>\n",
       "      <td>0.469</td>\n",
       "      <td>7.185</td>\n",
       "      <td>61.1</td>\n",
       "      <td>4.9671</td>\n",
       "      <td>2.0</td>\n",
       "      <td>242.0</td>\n",
       "      <td>17.8</td>\n",
       "      <td>392.83</td>\n",
       "      <td>4.03</td>\n",
       "      <td>34.7</td>\n",
       "    </tr>\n",
       "    <tr>\n",
       "      <th>3</th>\n",
       "      <td>0.03237</td>\n",
       "      <td>0.0</td>\n",
       "      <td>2.18</td>\n",
       "      <td>0.0</td>\n",
       "      <td>0.458</td>\n",
       "      <td>6.998</td>\n",
       "      <td>45.8</td>\n",
       "      <td>6.0622</td>\n",
       "      <td>3.0</td>\n",
       "      <td>222.0</td>\n",
       "      <td>18.7</td>\n",
       "      <td>394.63</td>\n",
       "      <td>2.94</td>\n",
       "      <td>33.4</td>\n",
       "    </tr>\n",
       "    <tr>\n",
       "      <th>4</th>\n",
       "      <td>0.06905</td>\n",
       "      <td>0.0</td>\n",
       "      <td>2.18</td>\n",
       "      <td>0.0</td>\n",
       "      <td>0.458</td>\n",
       "      <td>7.147</td>\n",
       "      <td>54.2</td>\n",
       "      <td>6.0622</td>\n",
       "      <td>3.0</td>\n",
       "      <td>222.0</td>\n",
       "      <td>18.7</td>\n",
       "      <td>396.90</td>\n",
       "      <td>5.33</td>\n",
       "      <td>36.2</td>\n",
       "    </tr>\n",
       "  </tbody>\n",
       "</table>\n",
       "</div>"
      ],
      "text/plain": [
       "      CRIM    ZN  INDUS  CHAS    NOX     RM   AGE     DIS  RAD    TAX  \\\n",
       "0  0.00632  18.0   2.31   0.0  0.538  6.575  65.2  4.0900  1.0  296.0   \n",
       "1  0.02731   0.0   7.07   0.0  0.469  6.421  78.9  4.9671  2.0  242.0   \n",
       "2  0.02729   0.0   7.07   0.0  0.469  7.185  61.1  4.9671  2.0  242.0   \n",
       "3  0.03237   0.0   2.18   0.0  0.458  6.998  45.8  6.0622  3.0  222.0   \n",
       "4  0.06905   0.0   2.18   0.0  0.458  7.147  54.2  6.0622  3.0  222.0   \n",
       "\n",
       "   PTRATIO       B  LSTAT  PRICE  \n",
       "0     15.3  396.90   4.98   24.0  \n",
       "1     17.8  396.90   9.14   21.6  \n",
       "2     17.8  392.83   4.03   34.7  \n",
       "3     18.7  394.63   2.94   33.4  \n",
       "4     18.7  396.90   5.33   36.2  "
      ]
     },
     "execution_count": 8,
     "metadata": {},
     "output_type": "execute_result"
    }
   ],
   "source": [
    "df['PRICE'] = target_data\n",
    "\n",
    "df.head()"
   ]
  },
  {
   "cell_type": "markdown",
   "metadata": {
    "id": "yqeLwJn9a1Ld"
   },
   "source": [
    "## Знакомство с данными"
   ]
  },
  {
   "cell_type": "markdown",
   "metadata": {
    "id": "OFXewMJla-1H"
   },
   "source": [
    "В ходе предобработки данных делается подготовка данных для дальнейшего использования модели. Наиболее частые причины подготовки табличных данных следующие:\n",
    "- Пропуски данных в некоторых колонках (признаках)\n",
    "- Очистка от выбросов в данных\n",
    "- Исправление распределений, отличных от нормальных"
   ]
  },
  {
   "cell_type": "markdown",
   "metadata": {
    "id": "KIG_mkFJSJH6"
   },
   "source": [
    "Выведем базовую информацию по данным. С помощью методов `info()` и `describe()`."
   ]
  },
  {
   "cell_type": "code",
   "execution_count": 9,
   "metadata": {
    "colab": {
     "base_uri": "https://localhost:8080/",
     "height": 358
    },
    "executionInfo": {
     "elapsed": 10582,
     "status": "ok",
     "timestamp": 1600615333534,
     "user": {
      "displayName": "Алексей Девяткин",
      "photoUrl": "",
      "userId": "11945040185410340858"
     },
     "user_tz": -180
    },
    "id": "QRTkGhW2R316",
    "outputId": "cf81515b-f0a9-4f1a-d25b-2d5ab57ea2da"
   },
   "outputs": [
    {
     "name": "stdout",
     "output_type": "stream",
     "text": [
      "<class 'pandas.core.frame.DataFrame'>\n",
      "RangeIndex: 506 entries, 0 to 505\n",
      "Data columns (total 14 columns):\n",
      " #   Column   Non-Null Count  Dtype  \n",
      "---  ------   --------------  -----  \n",
      " 0   CRIM     506 non-null    float64\n",
      " 1   ZN       506 non-null    float64\n",
      " 2   INDUS    506 non-null    float64\n",
      " 3   CHAS     506 non-null    float64\n",
      " 4   NOX      506 non-null    float64\n",
      " 5   RM       506 non-null    float64\n",
      " 6   AGE      506 non-null    float64\n",
      " 7   DIS      506 non-null    float64\n",
      " 8   RAD      506 non-null    float64\n",
      " 9   TAX      506 non-null    float64\n",
      " 10  PTRATIO  506 non-null    float64\n",
      " 11  B        506 non-null    float64\n",
      " 12  LSTAT    506 non-null    float64\n",
      " 13  PRICE    506 non-null    float64\n",
      "dtypes: float64(14)\n",
      "memory usage: 55.5 KB\n"
     ]
    }
   ],
   "source": [
    "df.info()"
   ]
  },
  {
   "cell_type": "code",
   "execution_count": 10,
   "metadata": {
    "colab": {
     "base_uri": "https://localhost:8080/",
     "height": 450
    },
    "executionInfo": {
     "elapsed": 10822,
     "status": "ok",
     "timestamp": 1600615333791,
     "user": {
      "displayName": "Алексей Девяткин",
      "photoUrl": "",
      "userId": "11945040185410340858"
     },
     "user_tz": -180
    },
    "id": "qoGZu4PlSNG5",
    "outputId": "d2294928-9d18-4ce2-f2fe-39939ca9befe"
   },
   "outputs": [
    {
     "data": {
      "text/html": [
       "<div>\n",
       "<style scoped>\n",
       "    .dataframe tbody tr th:only-of-type {\n",
       "        vertical-align: middle;\n",
       "    }\n",
       "\n",
       "    .dataframe tbody tr th {\n",
       "        vertical-align: top;\n",
       "    }\n",
       "\n",
       "    .dataframe thead th {\n",
       "        text-align: right;\n",
       "    }\n",
       "</style>\n",
       "<table border=\"1\" class=\"dataframe\">\n",
       "  <thead>\n",
       "    <tr style=\"text-align: right;\">\n",
       "      <th></th>\n",
       "      <th>count</th>\n",
       "      <th>mean</th>\n",
       "      <th>std</th>\n",
       "      <th>min</th>\n",
       "      <th>25%</th>\n",
       "      <th>50%</th>\n",
       "      <th>75%</th>\n",
       "      <th>max</th>\n",
       "    </tr>\n",
       "  </thead>\n",
       "  <tbody>\n",
       "    <tr>\n",
       "      <th>CRIM</th>\n",
       "      <td>506.0</td>\n",
       "      <td>3.613524</td>\n",
       "      <td>8.601545</td>\n",
       "      <td>0.00632</td>\n",
       "      <td>0.082045</td>\n",
       "      <td>0.25651</td>\n",
       "      <td>3.677083</td>\n",
       "      <td>88.9762</td>\n",
       "    </tr>\n",
       "    <tr>\n",
       "      <th>ZN</th>\n",
       "      <td>506.0</td>\n",
       "      <td>11.363636</td>\n",
       "      <td>23.322453</td>\n",
       "      <td>0.00000</td>\n",
       "      <td>0.000000</td>\n",
       "      <td>0.00000</td>\n",
       "      <td>12.500000</td>\n",
       "      <td>100.0000</td>\n",
       "    </tr>\n",
       "    <tr>\n",
       "      <th>INDUS</th>\n",
       "      <td>506.0</td>\n",
       "      <td>11.136779</td>\n",
       "      <td>6.860353</td>\n",
       "      <td>0.46000</td>\n",
       "      <td>5.190000</td>\n",
       "      <td>9.69000</td>\n",
       "      <td>18.100000</td>\n",
       "      <td>27.7400</td>\n",
       "    </tr>\n",
       "    <tr>\n",
       "      <th>CHAS</th>\n",
       "      <td>506.0</td>\n",
       "      <td>0.069170</td>\n",
       "      <td>0.253994</td>\n",
       "      <td>0.00000</td>\n",
       "      <td>0.000000</td>\n",
       "      <td>0.00000</td>\n",
       "      <td>0.000000</td>\n",
       "      <td>1.0000</td>\n",
       "    </tr>\n",
       "    <tr>\n",
       "      <th>NOX</th>\n",
       "      <td>506.0</td>\n",
       "      <td>0.554695</td>\n",
       "      <td>0.115878</td>\n",
       "      <td>0.38500</td>\n",
       "      <td>0.449000</td>\n",
       "      <td>0.53800</td>\n",
       "      <td>0.624000</td>\n",
       "      <td>0.8710</td>\n",
       "    </tr>\n",
       "    <tr>\n",
       "      <th>RM</th>\n",
       "      <td>506.0</td>\n",
       "      <td>6.284634</td>\n",
       "      <td>0.702617</td>\n",
       "      <td>3.56100</td>\n",
       "      <td>5.885500</td>\n",
       "      <td>6.20850</td>\n",
       "      <td>6.623500</td>\n",
       "      <td>8.7800</td>\n",
       "    </tr>\n",
       "    <tr>\n",
       "      <th>AGE</th>\n",
       "      <td>506.0</td>\n",
       "      <td>68.574901</td>\n",
       "      <td>28.148861</td>\n",
       "      <td>2.90000</td>\n",
       "      <td>45.025000</td>\n",
       "      <td>77.50000</td>\n",
       "      <td>94.075000</td>\n",
       "      <td>100.0000</td>\n",
       "    </tr>\n",
       "    <tr>\n",
       "      <th>DIS</th>\n",
       "      <td>506.0</td>\n",
       "      <td>3.795043</td>\n",
       "      <td>2.105710</td>\n",
       "      <td>1.12960</td>\n",
       "      <td>2.100175</td>\n",
       "      <td>3.20745</td>\n",
       "      <td>5.188425</td>\n",
       "      <td>12.1265</td>\n",
       "    </tr>\n",
       "    <tr>\n",
       "      <th>RAD</th>\n",
       "      <td>506.0</td>\n",
       "      <td>9.549407</td>\n",
       "      <td>8.707259</td>\n",
       "      <td>1.00000</td>\n",
       "      <td>4.000000</td>\n",
       "      <td>5.00000</td>\n",
       "      <td>24.000000</td>\n",
       "      <td>24.0000</td>\n",
       "    </tr>\n",
       "    <tr>\n",
       "      <th>TAX</th>\n",
       "      <td>506.0</td>\n",
       "      <td>408.237154</td>\n",
       "      <td>168.537116</td>\n",
       "      <td>187.00000</td>\n",
       "      <td>279.000000</td>\n",
       "      <td>330.00000</td>\n",
       "      <td>666.000000</td>\n",
       "      <td>711.0000</td>\n",
       "    </tr>\n",
       "    <tr>\n",
       "      <th>PTRATIO</th>\n",
       "      <td>506.0</td>\n",
       "      <td>18.455534</td>\n",
       "      <td>2.164946</td>\n",
       "      <td>12.60000</td>\n",
       "      <td>17.400000</td>\n",
       "      <td>19.05000</td>\n",
       "      <td>20.200000</td>\n",
       "      <td>22.0000</td>\n",
       "    </tr>\n",
       "    <tr>\n",
       "      <th>B</th>\n",
       "      <td>506.0</td>\n",
       "      <td>356.674032</td>\n",
       "      <td>91.294864</td>\n",
       "      <td>0.32000</td>\n",
       "      <td>375.377500</td>\n",
       "      <td>391.44000</td>\n",
       "      <td>396.225000</td>\n",
       "      <td>396.9000</td>\n",
       "    </tr>\n",
       "    <tr>\n",
       "      <th>LSTAT</th>\n",
       "      <td>506.0</td>\n",
       "      <td>12.653063</td>\n",
       "      <td>7.141062</td>\n",
       "      <td>1.73000</td>\n",
       "      <td>6.950000</td>\n",
       "      <td>11.36000</td>\n",
       "      <td>16.955000</td>\n",
       "      <td>37.9700</td>\n",
       "    </tr>\n",
       "    <tr>\n",
       "      <th>PRICE</th>\n",
       "      <td>506.0</td>\n",
       "      <td>22.532806</td>\n",
       "      <td>9.197104</td>\n",
       "      <td>5.00000</td>\n",
       "      <td>17.025000</td>\n",
       "      <td>21.20000</td>\n",
       "      <td>25.000000</td>\n",
       "      <td>50.0000</td>\n",
       "    </tr>\n",
       "  </tbody>\n",
       "</table>\n",
       "</div>"
      ],
      "text/plain": [
       "         count        mean         std        min         25%        50%  \\\n",
       "CRIM     506.0    3.613524    8.601545    0.00632    0.082045    0.25651   \n",
       "ZN       506.0   11.363636   23.322453    0.00000    0.000000    0.00000   \n",
       "INDUS    506.0   11.136779    6.860353    0.46000    5.190000    9.69000   \n",
       "CHAS     506.0    0.069170    0.253994    0.00000    0.000000    0.00000   \n",
       "NOX      506.0    0.554695    0.115878    0.38500    0.449000    0.53800   \n",
       "RM       506.0    6.284634    0.702617    3.56100    5.885500    6.20850   \n",
       "AGE      506.0   68.574901   28.148861    2.90000   45.025000   77.50000   \n",
       "DIS      506.0    3.795043    2.105710    1.12960    2.100175    3.20745   \n",
       "RAD      506.0    9.549407    8.707259    1.00000    4.000000    5.00000   \n",
       "TAX      506.0  408.237154  168.537116  187.00000  279.000000  330.00000   \n",
       "PTRATIO  506.0   18.455534    2.164946   12.60000   17.400000   19.05000   \n",
       "B        506.0  356.674032   91.294864    0.32000  375.377500  391.44000   \n",
       "LSTAT    506.0   12.653063    7.141062    1.73000    6.950000   11.36000   \n",
       "PRICE    506.0   22.532806    9.197104    5.00000   17.025000   21.20000   \n",
       "\n",
       "                75%       max  \n",
       "CRIM       3.677083   88.9762  \n",
       "ZN        12.500000  100.0000  \n",
       "INDUS     18.100000   27.7400  \n",
       "CHAS       0.000000    1.0000  \n",
       "NOX        0.624000    0.8710  \n",
       "RM         6.623500    8.7800  \n",
       "AGE       94.075000  100.0000  \n",
       "DIS        5.188425   12.1265  \n",
       "RAD       24.000000   24.0000  \n",
       "TAX      666.000000  711.0000  \n",
       "PTRATIO   20.200000   22.0000  \n",
       "B        396.225000  396.9000  \n",
       "LSTAT     16.955000   37.9700  \n",
       "PRICE     25.000000   50.0000  "
      ]
     },
     "execution_count": 10,
     "metadata": {},
     "output_type": "execute_result"
    }
   ],
   "source": [
    "df.describe().T"
   ]
  },
  {
   "cell_type": "markdown",
   "metadata": {
    "id": "wM1DWm85GuFg"
   },
   "source": [
    "## Определение наличия пропусков"
   ]
  },
  {
   "cell_type": "markdown",
   "metadata": {
    "id": "dF2u7RGaUDAe"
   },
   "source": [
    "Из результатов метода `info()` видно, что данные не имеют пропусков (количество non-null равно количеству записей в каждом признаке) - это важно, так как не требуется дополнять данные или исключать записи."
   ]
  },
  {
   "cell_type": "markdown",
   "metadata": {
    "id": "gg-jKsJBiLns"
   },
   "source": [
    "## Проверка и определение типов признаков"
   ]
  },
  {
   "cell_type": "markdown",
   "metadata": {
    "id": "YJaFL4iCLUOq"
   },
   "source": [
    "Помимо базовых функций также важно выделить разделение на типы признаков. Выделяют следующие основные типы признаков:\n",
    "- Категориальные:\n",
    "    - Номинальные - значения признаков ограничены группой возможных значений (красный/синий/зеленый);\n",
    "    - Бинарные - те же номинальные, но всего две группы (Да/Нет, Правда/Ложь);\n",
    "    - Последовательные - те же номинальные, но еще группы имеют порядок (плохой/хороший/отличный);\n",
    "- Численные - вещественные или целочисленные данные.\n",
    "\n",
    "Метод `df.info()` показал, что данные не имеют строк, которые сразу принимаются за категориальные признаки. На данный момент все признаки являются числовыми."
   ]
  },
  {
   "cell_type": "code",
   "execution_count": 11,
   "metadata": {
    "colab": {
     "base_uri": "https://localhost:8080/",
     "height": 261
    },
    "executionInfo": {
     "elapsed": 10804,
     "status": "ok",
     "timestamp": 1600615333793,
     "user": {
      "displayName": "Алексей Девяткин",
      "photoUrl": "",
      "userId": "11945040185410340858"
     },
     "user_tz": -180
    },
    "id": "X9FSB01YK1Tu",
    "outputId": "0f62a824-67d7-434b-a263-9b41bca586b3"
   },
   "outputs": [
    {
     "data": {
      "text/plain": [
       "CRIM       504\n",
       "ZN          26\n",
       "INDUS       76\n",
       "CHAS         2\n",
       "NOX         81\n",
       "RM         446\n",
       "AGE        356\n",
       "DIS        412\n",
       "RAD          9\n",
       "TAX         66\n",
       "PTRATIO     46\n",
       "B          357\n",
       "LSTAT      455\n",
       "PRICE      229\n",
       "dtype: int64"
      ]
     },
     "execution_count": 11,
     "metadata": {},
     "output_type": "execute_result"
    }
   ],
   "source": [
    "df.nunique()"
   ]
  },
  {
   "cell_type": "markdown",
   "metadata": {
    "id": "wR4jW6tTLTvi"
   },
   "source": [
    "Признак `CHAS` имеет всего два значения - проверим, какие это значения:"
   ]
  },
  {
   "cell_type": "code",
   "execution_count": 12,
   "metadata": {
    "colab": {
     "base_uri": "https://localhost:8080/",
     "height": 66
    },
    "executionInfo": {
     "elapsed": 10791,
     "status": "ok",
     "timestamp": 1600615333795,
     "user": {
      "displayName": "Алексей Девяткин",
      "photoUrl": "",
      "userId": "11945040185410340858"
     },
     "user_tz": -180
    },
    "id": "Hnz3YoLNoa-c",
    "outputId": "1f1d6f0a-5976-4942-a161-d5b2af76e5e3"
   },
   "outputs": [
    {
     "data": {
      "text/plain": [
       "0.0    471\n",
       "1.0     35\n",
       "Name: CHAS, dtype: int64"
      ]
     },
     "execution_count": 12,
     "metadata": {},
     "output_type": "execute_result"
    }
   ],
   "source": [
    "df['CHAS'].value_counts()"
   ]
  },
  {
   "cell_type": "markdown",
   "metadata": {
    "id": "Z_5J8IXje_Rw"
   },
   "source": [
    "В данном случае можно рассматривать этот признак как категориальный, который не требует предобработки, так как он уже представлен числом.\n",
    "\n",
    "Тем не менее обновим тип, чтобы в информации он был представлен верно:"
   ]
  },
  {
   "cell_type": "code",
   "execution_count": 13,
   "metadata": {
    "colab": {
     "base_uri": "https://localhost:8080/",
     "height": 358
    },
    "executionInfo": {
     "elapsed": 10776,
     "status": "ok",
     "timestamp": 1600615333796,
     "user": {
      "displayName": "Алексей Девяткин",
      "photoUrl": "",
      "userId": "11945040185410340858"
     },
     "user_tz": -180
    },
    "id": "IgTbwk5IfLGF",
    "outputId": "bee8c7cd-ae1b-4ca0-bdd3-4440c502f147"
   },
   "outputs": [
    {
     "name": "stdout",
     "output_type": "stream",
     "text": [
      "<class 'pandas.core.frame.DataFrame'>\n",
      "RangeIndex: 506 entries, 0 to 505\n",
      "Data columns (total 14 columns):\n",
      " #   Column   Non-Null Count  Dtype   \n",
      "---  ------   --------------  -----   \n",
      " 0   CRIM     506 non-null    float64 \n",
      " 1   ZN       506 non-null    float64 \n",
      " 2   INDUS    506 non-null    float64 \n",
      " 3   CHAS     506 non-null    category\n",
      " 4   NOX      506 non-null    float64 \n",
      " 5   RM       506 non-null    float64 \n",
      " 6   AGE      506 non-null    float64 \n",
      " 7   DIS      506 non-null    float64 \n",
      " 8   RAD      506 non-null    float64 \n",
      " 9   TAX      506 non-null    float64 \n",
      " 10  PTRATIO  506 non-null    float64 \n",
      " 11  B        506 non-null    float64 \n",
      " 12  LSTAT    506 non-null    float64 \n",
      " 13  PRICE    506 non-null    float64 \n",
      "dtypes: category(1), float64(13)\n",
      "memory usage: 52.1 KB\n"
     ]
    }
   ],
   "source": [
    "# Сначала приведем к int, чтобы вместо 0.0 и 1.0 были значения 0 и 1\n",
    "# Затем приведем к типу категорий\n",
    "df['CHAS'] = df['CHAS'].astype(int).astype(dtype='category')\n",
    "\n",
    "df.info()"
   ]
  },
  {
   "cell_type": "markdown",
   "metadata": {
    "id": "lCHIiSILfzSX"
   },
   "source": [
    "Остальные данные также можно привести к целочисленным, если они имеют только целочисленные значения, но делать это не обязательно."
   ]
  },
  {
   "cell_type": "markdown",
   "metadata": {
    "id": "Rvy3i8QmoaQJ"
   },
   "source": [
    "\n",
    "\n",
    "Аналогично признак `RAD` имеет всего 9 значений, при этом по определению признака он является индексом, что может допускать в будущем и другие значения данного признака - так как нет явного ограничения, будем считать данный признак численным.\n",
    "\n",
    "> Чаще всего выделение категориальных признаков делается исходя из априорных и предметных знаний, как, например, в анкете выпадающий список с вариантами. В данном датасете все признаки допускают диапазон вещественных/целочисленных значений. По этой причине в данной работе все признаки будут рассмотрены как численные."
   ]
  },
  {
   "cell_type": "markdown",
   "metadata": {
    "id": "sQA3pVjoiWW9"
   },
   "source": [
    "## Поиск и удаление неинформативных признаков"
   ]
  },
  {
   "cell_type": "markdown",
   "metadata": {
    "id": "PJntJXASia8o"
   },
   "source": [
    "Под неинформативными понимаются признаки, которые не несут полезной информации для предсказания. Это могут быть индексы записей в базе данных, полные ФИО пользователей или уникальный идентификатор каждого щеночка в базе. По сути это признаки, которые уникальны для каждой записи, поэтому на базовом этапе они удаляются. На этапе расширенного анализа они могут служить источником новых признаков.\n",
    "\n",
    "В данном наборе данных судя по описанию мы не имеем уникальных для каждой записи признаков, так что удаление признаков не требуется."
   ]
  },
  {
   "cell_type": "markdown",
   "metadata": {
    "id": "2Sjd8nnYgAy2"
   },
   "source": [
    "## Результат\n",
    "\n",
    "По результатам базового анализа и предоработки данные были приведены к числовому виду, так что можно их использовать для обучения базовой модели."
   ]
  },
  {
   "cell_type": "markdown",
   "metadata": {
    "id": "wPDysM-UJheX"
   },
   "source": [
    "# Расширенный анализ данных"
   ]
  },
  {
   "cell_type": "markdown",
   "metadata": {
    "id": "pODVw5o-gQ-8"
   },
   "source": [
    "Расширенный (или описательный) анализ данных (Explanatory Data Analysis ~ EDA) является следующим этапом после построения базовой модели. Нацелен он на расширение знаний о данных, а также увеличение предсказательной способности (точности или требуемой метрики).\n",
    "\n",
    "В качестве этапов можно выделить:\n",
    "- более подходящяя обработка пропусков в данных;\n",
    "- анализ распределений данных, исправление перекосов распределений;\n",
    "- масштабирование значений признаков;\n",
    "- корреляционный анализ;\n",
    "- поиск новых зависимостей и генерация новых признаков;\n",
    "- определение выбросов в данных;\n",
    "- и другие подходы.\n",
    "\n",
    "Сами по себе подходы не обязательно применяются все и разом. Одни подходы могут как улучшить результаты работы модели, так и ухудшить, поэтому данные подходы имеют экспериментальный характер.\n",
    "\n",
    "В данной работе мы рассмотрим некоторые из подходов."
   ]
  },
  {
   "cell_type": "markdown",
   "metadata": {
    "id": "VkI5-wOCirZx"
   },
   "source": [
    "## Анализ распределений"
   ]
  },
  {
   "cell_type": "markdown",
   "metadata": {
    "id": "1pFniuUIWzKI"
   },
   "source": [
    "Анализ распределений заключается в том, чтобы просмотреть распределения численных признаков, понять их характер и необходимость коррекции смещения.\n",
    "\n",
    "Под нормальным (Гауссовым) распределением понимается распределение следующего вида:"
   ]
  },
  {
   "cell_type": "code",
   "execution_count": 14,
   "metadata": {
    "colab": {
     "base_uri": "https://localhost:8080/",
     "height": 450
    },
    "executionInfo": {
     "elapsed": 6286,
     "status": "ok",
     "timestamp": 1600615334171,
     "user": {
      "displayName": "Алексей Девяткин",
      "photoUrl": "",
      "userId": "11945040185410340858"
     },
     "user_tz": -180
    },
    "id": "KIuc5-iPmLOi",
    "outputId": "f5991b78-42ee-4a19-c2d6-96041e5d742e"
   },
   "outputs": [
    {
     "name": "stderr",
     "output_type": "stream",
     "text": [
      "E:\\Anaconda\\lib\\site-packages\\seaborn\\distributions.py:2551: FutureWarning: `distplot` is a deprecated function and will be removed in a future version. Please adapt your code to use either `displot` (a figure-level function with similar flexibility) or `histplot` (an axes-level function for histograms).\n",
      "  warnings.warn(msg, FutureWarning)\n"
     ]
    },
    {
     "data": {
      "image/png": "[encoded data removed]",
      "text/plain": [
       "<Figure size 720x504 with 1 Axes>"
      ]
     },
     "metadata": {
      "needs_background": "light"
     },
     "output_type": "display_data"
    }
   ],
   "source": [
    "plt.figure(figsize=[10, 7])\n",
    "sns.distplot(df['RM'], bins=20)\n",
    "# Отключение меток на оси Y\n",
    "plt.yticks([])\n",
    "plt.show()"
   ]
  },
  {
   "cell_type": "markdown",
   "metadata": {
    "id": "6FD8uYVKmbwd"
   },
   "source": [
    "Смещение нормального распределения могут быть как левые (хвост находится справа), так и правое (хвост слева):"
   ]
  },
  {
   "cell_type": "code",
   "execution_count": 15,
   "metadata": {
    "colab": {
     "base_uri": "https://localhost:8080/",
     "height": 470
    },
    "executionInfo": {
     "elapsed": 6772,
     "status": "ok",
     "timestamp": 1600615334675,
     "user": {
      "displayName": "Алексей Девяткин",
      "photoUrl": "",
      "userId": "11945040185410340858"
     },
     "user_tz": -180
    },
    "id": "zXWEviAUmbaF",
    "outputId": "e70b952e-6100-415d-a2f1-b9a640874699"
   },
   "outputs": [
    {
     "name": "stderr",
     "output_type": "stream",
     "text": [
      "E:\\Anaconda\\lib\\site-packages\\seaborn\\distributions.py:2551: FutureWarning: `distplot` is a deprecated function and will be removed in a future version. Please adapt your code to use either `displot` (a figure-level function with similar flexibility) or `histplot` (an axes-level function for histograms).\n",
      "  warnings.warn(msg, FutureWarning)\n",
      "E:\\Anaconda\\lib\\site-packages\\seaborn\\distributions.py:2551: FutureWarning: `distplot` is a deprecated function and will be removed in a future version. Please adapt your code to use either `displot` (a figure-level function with similar flexibility) or `histplot` (an axes-level function for histograms).\n",
      "  warnings.warn(msg, FutureWarning)\n"
     ]
    },
    {
     "data": {
      "image/png": "[encoded data removed]",
      "text/plain": [
       "<Figure size 1440x504 with 2 Axes>"
      ]
     },
     "metadata": {
      "needs_background": "light"
     },
     "output_type": "display_data"
    }
   ],
   "source": [
    "_, ax = plt.subplots(nrows=1, ncols=2, figsize=[20, 7])\n",
    "\n",
    "sns.distplot(df['DIS'], ax=ax[0], bins=20)\n",
    "ax[0].title.set_text('Левое смещение')\n",
    "\n",
    "sns.distplot(df['PTRATIO'], ax=ax[1], bins=20)\n",
    "ax[1].title.set_text('Правое смещение')\n",
    "\n",
    "plt.show()"
   ]
  },
  {
   "cell_type": "markdown",
   "metadata": {
    "id": "kDmkVveqn2pV"
   },
   "source": [
    "Распределения могут иметь и бимодальный характер: "
   ]
  },
  {
   "cell_type": "code",
   "execution_count": 16,
   "metadata": {
    "colab": {
     "base_uri": "https://localhost:8080/",
     "height": 450
    },
    "executionInfo": {
     "elapsed": 7083,
     "status": "ok",
     "timestamp": 1600615335003,
     "user": {
      "displayName": "Алексей Девяткин",
      "photoUrl": "",
      "userId": "11945040185410340858"
     },
     "user_tz": -180
    },
    "id": "Z9KwiBZToFLj",
    "outputId": "fe5f74c4-d09b-4374-b142-6c9f12eef2ae"
   },
   "outputs": [
    {
     "name": "stderr",
     "output_type": "stream",
     "text": [
      "E:\\Anaconda\\lib\\site-packages\\seaborn\\distributions.py:2551: FutureWarning: `distplot` is a deprecated function and will be removed in a future version. Please adapt your code to use either `displot` (a figure-level function with similar flexibility) or `histplot` (an axes-level function for histograms).\n",
      "  warnings.warn(msg, FutureWarning)\n"
     ]
    },
    {
     "data": {
      "image/png": "[encoded data removed]",
      "text/plain": [
       "<Figure size 720x504 with 1 Axes>"
      ]
     },
     "metadata": {
      "needs_background": "light"
     },
     "output_type": "display_data"
    }
   ],
   "source": [
    "plt.figure(figsize=[10, 7])\n",
    "sns.distplot(df['RAD'], bins=20)\n",
    "# Отключение меток на оси Y\n",
    "plt.yticks([])\n",
    "plt.show()"
   ]
  },
  {
   "cell_type": "markdown",
   "metadata": {
    "id": "KI2nUG6YpmjI"
   },
   "source": [
    "Анализ распределений нужен во-первых, чтобы понять, как распределены данные по каждому признаку, и во-вторых, для понимания того, какие распределения требуют коррекции. Модель линейной регрессии чувствительна к тому, как данные распределены, поэтому коррекция смещения может помочь увеличить показатели работы модели. \n",
    "\n",
    "> Для этого `sklearn` имеет метод степенной коррекции `sklearn.preprocessing.PowerTransformer` и метод коррекции квантилями `sklearn.preprocessing.QuantileTransformer`."
   ]
  },
  {
   "cell_type": "markdown",
   "metadata": {
    "id": "Yk1QKfvOiugo"
   },
   "source": [
    "## Корреляционный анализ"
   ]
  },
  {
   "cell_type": "markdown",
   "metadata": {
    "id": "iGJfCSMJc3Yx"
   },
   "source": [
    "Корреляционный анализ важен для оценки того, как данные взаимосвязаны. В этом поможет функция отображения коэффициентов корреляции `DataFrame.corr()`. Корреляционный анализ позволит понять, какие переменные имеют связь с целевой переменной, что полезно для выбора признаков для обучения.\n"
   ]
  },
  {
   "cell_type": "code",
   "execution_count": 17,
   "metadata": {
    "colab": {
     "base_uri": "https://localhost:8080/",
     "height": 162
    },
    "executionInfo": {
     "elapsed": 7070,
     "status": "ok",
     "timestamp": 1600615335005,
     "user": {
      "displayName": "Алексей Девяткин",
      "photoUrl": "",
      "userId": "11945040185410340858"
     },
     "user_tz": -180
    },
    "id": "BTD8IUm_X2I0",
    "outputId": "c4fe14dd-71dd-4e11-c184-8388e60d7580"
   },
   "outputs": [
    {
     "data": {
      "text/html": [
       "<div>\n",
       "<style scoped>\n",
       "    .dataframe tbody tr th:only-of-type {\n",
       "        vertical-align: middle;\n",
       "    }\n",
       "\n",
       "    .dataframe tbody tr th {\n",
       "        vertical-align: top;\n",
       "    }\n",
       "\n",
       "    .dataframe thead th {\n",
       "        text-align: right;\n",
       "    }\n",
       "</style>\n",
       "<table border=\"1\" class=\"dataframe\">\n",
       "  <thead>\n",
       "    <tr style=\"text-align: right;\">\n",
       "      <th></th>\n",
       "      <th>CRIM</th>\n",
       "      <th>NOX</th>\n",
       "      <th>RM</th>\n",
       "      <th>PRICE</th>\n",
       "    </tr>\n",
       "  </thead>\n",
       "  <tbody>\n",
       "    <tr>\n",
       "      <th>CRIM</th>\n",
       "      <td>1.000000</td>\n",
       "      <td>0.420972</td>\n",
       "      <td>-0.219247</td>\n",
       "      <td>-0.388305</td>\n",
       "    </tr>\n",
       "    <tr>\n",
       "      <th>NOX</th>\n",
       "      <td>0.420972</td>\n",
       "      <td>1.000000</td>\n",
       "      <td>-0.302188</td>\n",
       "      <td>-0.427321</td>\n",
       "    </tr>\n",
       "    <tr>\n",
       "      <th>RM</th>\n",
       "      <td>-0.219247</td>\n",
       "      <td>-0.302188</td>\n",
       "      <td>1.000000</td>\n",
       "      <td>0.695360</td>\n",
       "    </tr>\n",
       "    <tr>\n",
       "      <th>PRICE</th>\n",
       "      <td>-0.388305</td>\n",
       "      <td>-0.427321</td>\n",
       "      <td>0.695360</td>\n",
       "      <td>1.000000</td>\n",
       "    </tr>\n",
       "  </tbody>\n",
       "</table>\n",
       "</div>"
      ],
      "text/plain": [
       "           CRIM       NOX        RM     PRICE\n",
       "CRIM   1.000000  0.420972 -0.219247 -0.388305\n",
       "NOX    0.420972  1.000000 -0.302188 -0.427321\n",
       "RM    -0.219247 -0.302188  1.000000  0.695360\n",
       "PRICE -0.388305 -0.427321  0.695360  1.000000"
      ]
     },
     "execution_count": 17,
     "metadata": {},
     "output_type": "execute_result"
    }
   ],
   "source": [
    "# Для примера выберем следующие признаки\n",
    "features = ['CRIM', 'NOX', 'RM', 'PRICE']\n",
    "\n",
    "correlation_mtrx = df[features].corr()\n",
    "correlation_mtrx"
   ]
  },
  {
   "cell_type": "markdown",
   "metadata": {
    "id": "nekteOlQd9H7"
   },
   "source": [
    "При этом отображение численных значений часто сложно для восприятия, поэтому проще отобразить данные в виде представления тепловой карты с помощью функции `heatmap()`."
   ]
  },
  {
   "cell_type": "code",
   "execution_count": 18,
   "metadata": {
    "colab": {
     "base_uri": "https://localhost:8080/",
     "height": 617
    },
    "executionInfo": {
     "elapsed": 7374,
     "status": "ok",
     "timestamp": 1600615335326,
     "user": {
      "displayName": "Алексей Девяткин",
      "photoUrl": "",
      "userId": "11945040185410340858"
     },
     "user_tz": -180
    },
    "id": "EtscB-1ndeuv",
    "outputId": "0c63db49-77f4-4556-94ef-20ee30e2e934"
   },
   "outputs": [
    {
     "data": {
      "text/plain": [
       "<AxesSubplot:>"
      ]
     },
     "execution_count": 18,
     "metadata": {},
     "output_type": "execute_result"
    },
    {
     "data": {
      "image/png": "[encoded data removed]",
      "text/plain": [
       "<Figure size 432x288 with 2 Axes>"
      ]
     },
     "metadata": {
      "needs_background": "light"
     },
     "output_type": "display_data"
    }
   ],
   "source": [
    "# Два дополнительных аргумента добавляют числа на график и указывают формат вывода данных\n",
    "sns.heatmap(correlation_mtrx, annot=True, fmt='.2f')"
   ]
  },
  {
   "cell_type": "markdown",
   "metadata": {
    "id": "0G9JSj9ze4Hl"
   },
   "source": [
    "Корреляционный анализ несет следующую полезную информацию - из выбранных признаков `RM` с целевой переменной `PRICE`, так как значение по модулю \"достаточно высокое\" (приблизительно больше 0.6).\n"
   ]
  },
  {
   "cell_type": "markdown",
   "metadata": {
    "id": "Bu6DvbyxwAsU"
   },
   "source": [
    "### Визуальная оценка"
   ]
  },
  {
   "cell_type": "markdown",
   "metadata": {
    "id": "HZoPCPshxywp"
   },
   "source": [
    "После определения признаков, которые имеют высокую корреляцию, важно также посмотреть на распределение данных, так как показатель корреляции не сообщает о характере зависимости или о том, как данные распределены:"
   ]
  },
  {
   "cell_type": "code",
   "execution_count": 19,
   "metadata": {
    "colab": {
     "base_uri": "https://localhost:8080/",
     "height": 448
    },
    "executionInfo": {
     "elapsed": 8109,
     "status": "ok",
     "timestamp": 1600615336076,
     "user": {
      "displayName": "Алексей Девяткин",
      "photoUrl": "",
      "userId": "11945040185410340858"
     },
     "user_tz": -180
    },
    "id": "bY47_WRO9hW2",
    "outputId": "8f3237e3-3996-4b76-90d3-f7b711b2c524"
   },
   "outputs": [
    {
     "data": {
      "text/plain": [
       "<seaborn.axisgrid.JointGrid at 0x17e334c8a48>"
      ]
     },
     "execution_count": 19,
     "metadata": {},
     "output_type": "execute_result"
    },
    {
     "data": {
      "image/png": "[encoded data removed]",
      "text/plain": [
       "<Figure size 432x432 with 3 Axes>"
      ]
     },
     "metadata": {
      "needs_background": "light"
     },
     "output_type": "display_data"
    }
   ],
   "source": [
    "sns.jointplot(x=\"RM\", y=\"PRICE\", data=df)"
   ]
  },
  {
   "cell_type": "markdown",
   "metadata": {
    "id": "2ri3Ou7xzQhU"
   },
   "source": [
    "Как видно на графике, данные действительно имеют корреляцию: признак `RM` соответствует линейной зависимости.\n",
    "\n",
    "> Сама по себе визуальная оценка взаимосвязи данных очень важна, так как по ней можно определить наличие зависимостей, при том, что показатель корреляции ориентируется лишь на линейную зависимость."
   ]
  },
  {
   "cell_type": "markdown",
   "metadata": {
    "id": "iRpsgljdx4cD"
   },
   "source": [
    "## Обработка выборосов данных"
   ]
  },
  {
   "cell_type": "markdown",
   "metadata": {
    "id": "Lo9M-tunx-lV"
   },
   "source": [
    "По ранее представленному графику важно отметить аномальное распределение точек по линии `PRICE = 50`, что говорит о возможных выбросах в данных. Такое же поведение видно и в графике распределения данных признака `PRICE`, что выражается в небольшой правой моде.\n",
    "\n",
    "Для оценки количества возможных выбросов выберем данные, которые соответсвуют `PRICE = 50`."
   ]
  },
  {
   "cell_type": "code",
   "execution_count": 20,
   "metadata": {
    "colab": {
     "base_uri": "https://localhost:8080/",
     "height": 50
    },
    "executionInfo": {
     "elapsed": 8095,
     "status": "ok",
     "timestamp": 1600615336077,
     "user": {
      "displayName": "Алексей Девяткин",
      "photoUrl": "",
      "userId": "11945040185410340858"
     },
     "user_tz": -180
    },
    "id": "C6IsTPVK7VLP",
    "outputId": "c0016159-3d70-44d1-f740-01676a48fb79"
   },
   "outputs": [
    {
     "name": "stdout",
     "output_type": "stream",
     "text": [
      "16\n",
      "3.1620553359683794\n"
     ]
    }
   ],
   "source": [
    "outliers_count = df[df['PRICE'] == 50].shape[0]\n",
    "\n",
    "print(outliers_count)\n",
    "print(outliers_count/df.shape[0]*100)"
   ]
  },
  {
   "cell_type": "markdown",
   "metadata": {
    "id": "2rzcO-4N7eMa"
   },
   "source": [
    "Оценка количества возможных выбросов (16 записей) показывает, что они составляют около трех процентов от всего количества данных, что не скажется на дальнейшей работе при их **исключении** из данных."
   ]
  },
  {
   "cell_type": "markdown",
   "metadata": {
    "id": "ryMJXIKZyQLT"
   },
   "source": [
    "## Результат"
   ]
  },
  {
   "cell_type": "markdown",
   "metadata": {
    "id": "SiPAWs8_imhE"
   },
   "source": [
    "По примерам методов анализа уже видно, что данные имеют стороны, которые можно постараться скорректировать, что может положительно сказаться на показателях работы модели."
   ]
  },
  {
   "cell_type": "markdown",
   "metadata": {
    "id": "-b5qGoMLjZHS"
   },
   "source": [
    "# Разработка и оценка модели"
   ]
  },
  {
   "cell_type": "markdown",
   "metadata": {
    "id": "9ZA61c7FCA9R"
   },
   "source": [
    "## Разделение данных"
   ]
  },
  {
   "cell_type": "markdown",
   "metadata": {
    "id": "PFwIRqWTjci4"
   },
   "source": [
    "Перед тем, как переходить к модели, требуется сделать разделение обраотанных данных на выборки для обучения и тестирования. Для этого воспользуется функцией `train_test_split()`.\n",
    "\n",
    "> В ходе работы с данными важно сохранять свойство повторяемости. Для этого в функциях, использующих случайные генераторы, нужно использовать зафиксированное состояние генератора случайных чисел."
   ]
  },
  {
   "cell_type": "code",
   "execution_count": 21,
   "metadata": {
    "colab": {
     "base_uri": "https://localhost:8080/",
     "height": 50
    },
    "executionInfo": {
     "elapsed": 8082,
     "status": "ok",
     "timestamp": 1600615336078,
     "user": {
      "displayName": "Алексей Девяткин",
      "photoUrl": "",
      "userId": "11945040185410340858"
     },
     "user_tz": -180
    },
    "id": "v3p9m1Xqdzju",
    "outputId": "9918d433-74f5-4b63-f471-e457cce81182"
   },
   "outputs": [
    {
     "name": "stdout",
     "output_type": "stream",
     "text": [
      "(354, 13) (354,)\n",
      "(152, 13) (152,)\n"
     ]
    }
   ],
   "source": [
    "from sklearn.model_selection import train_test_split\n",
    "\n",
    "# 70% - для обучения, 30% - для тестов\n",
    "TRAIN_RATIO = 0.7\n",
    "\n",
    "# X - DataFrame только с признаками (для примера берем все признаки)\n",
    "X = df[feature_names]\n",
    "# y - истинные значения (разметка)\n",
    "y = df['PRICE']\n",
    "\n",
    "X_train, X_test, y_train, y_test = train_test_split(\n",
    "    # Передаются наборы, которые будут разделены в соответсвии с параметрами\n",
    "    X, y, \n",
    "    # Задается размер обучающей выборки\n",
    "    train_size=TRAIN_RATIO, \n",
    "    # Фиксируется состояние генератора случайных чисел \n",
    "    #   для сохранения повторяемости\n",
    "    random_state=RANDOM_STATE\n",
    ")\n",
    "\n",
    "# Отображение размеров выборок\n",
    "print(X_train.shape, y_train.shape)\n",
    "print(X_test.shape, y_test.shape)"
   ]
  },
  {
   "cell_type": "markdown",
   "metadata": {
    "id": "szndXZt2B4Mu"
   },
   "source": [
    "## Применение классов моделей"
   ]
  },
  {
   "cell_type": "markdown",
   "metadata": {
    "id": "S6imFysElzMJ"
   },
   "source": [
    "После того, как данные подготовлены, настало время создания модели, обучения и проверки.\n",
    "\n",
    "Начнем с создания модели линейной регрессии и ее обучения с помощью метода `fit()`."
   ]
  },
  {
   "cell_type": "code",
   "execution_count": 22,
   "metadata": {
    "colab": {
     "base_uri": "https://localhost:8080/",
     "height": 33
    },
    "executionInfo": {
     "elapsed": 8068,
     "status": "ok",
     "timestamp": 1600615336079,
     "user": {
      "displayName": "Алексей Девяткин",
      "photoUrl": "",
      "userId": "11945040185410340858"
     },
     "user_tz": -180
    },
    "id": "EwlqbYr9lIft",
    "outputId": "4a961bce-3b5a-4689-daa8-2f5c5033564a"
   },
   "outputs": [
    {
     "data": {
      "text/plain": [
       "LinearRegression(copy_X=True, fit_intercept=True, n_jobs=None, normalize=False)"
      ]
     },
     "execution_count": 22,
     "metadata": {},
     "output_type": "execute_result"
    }
   ],
   "source": [
    "from sklearn.linear_model import LinearRegression\n",
    "\n",
    "# Создаем объект\n",
    "reg = LinearRegression()\n",
    "# Обучаем на выборке для обучения\n",
    "reg.fit(X_train, y_train)"
   ]
  },
  {
   "cell_type": "markdown",
   "metadata": {
    "id": "TRIN5-DPcBCx"
   },
   "source": [
    "Для случая линейной регрессии обученная модель имеет веса для каждого признака. Объект класса `LinearRegression` позволяет получить эти веса и смещение путем обращения к атрибутам `.coef_` (веса признаков) и `.intercept_` (константное смещение, нулевой коэффициент). С аттрибутами класса модели линейной регрессии можно ознакомиться в справке здесь или на сайте https://scikit-learn.org/stable/modules/generated/sklearn.linear_model.LinearRegression.html."
   ]
  },
  {
   "cell_type": "code",
   "execution_count": 23,
   "metadata": {
    "colab": {
     "base_uri": "https://localhost:8080/",
     "height": 277
    },
    "executionInfo": {
     "elapsed": 8504,
     "status": "ok",
     "timestamp": 1600615336529,
     "user": {
      "displayName": "Алексей Девяткин",
      "photoUrl": "",
      "userId": "11945040185410340858"
     },
     "user_tz": -180
    },
    "id": "M4uPf5ODcAmJ",
    "outputId": "630b5d8a-3d5a-4790-e97e-bbf8ba938a13"
   },
   "outputs": [
    {
     "name": "stdout",
     "output_type": "stream",
     "text": [
      "\n",
      "----- Weights -----\n",
      "CRIM | -0.13347010285294725\n",
      "ZN | 0.03580891359323623\n",
      "INDUS | 0.049522645220052244\n",
      "CHAS | 3.119835116285423\n",
      "NOX | -15.417060895306776\n",
      "RM | 4.057199231645376\n",
      "AGE | -0.010820835184924181\n",
      "DIS | -1.3859982431608782\n",
      "RAD | 0.24272733982225161\n",
      "TAX | -0.008702234365661957\n",
      "PTRATIO | -0.9106852081102905\n",
      "B | 0.011794115892575245\n",
      "LSTAT | -0.5471133128239536\n",
      "Bias: 31.631084035691863\n"
     ]
    }
   ],
   "source": [
    "# Для отображения весов создадим функцию\n",
    "def show_linear_model_weights(model, feature_names=None):\n",
    "    '''\n",
    "    Отображение весов\n",
    "    Аргументы:\n",
    "        model - модель линейной регрессии\n",
    "        feature_names - (опционально) если передано, отображение весов вместе с именами признаков\n",
    "    '''\n",
    "    print('\\n----- Weights -----')\n",
    "    weights = model.coef_\n",
    "    bias = model.intercept_\n",
    "    if feature_names is None:  \n",
    "        print(f'Weights: {weights}')\n",
    "    else:\n",
    "        # Функция zip() делает из двух списков один список пар значений\n",
    "        pairs = zip(feature_names, weights)\n",
    "        for pair in pairs:\n",
    "            print(f'{pair[0]} | {pair[1]}')\n",
    "\n",
    "    print(f'Bias: {bias}')\n",
    "\n",
    "show_linear_model_weights(reg, X_train.columns)"
   ]
  },
  {
   "cell_type": "markdown",
   "metadata": {
    "id": "pMTR7DiT5T6-"
   },
   "source": [
    "Каждый вес соответсвует коэффициенту, на который умножается значение признака, чтобы получить конечное значение предсказания. Так как данные не нормированны, мы не можем говорить о том, что данные веса отражают степень влияния признаков."
   ]
  },
  {
   "cell_type": "markdown",
   "metadata": {
    "id": "Bw3n23GumaM0"
   },
   "source": [
    "Для начала отобразим график предсказаний и посмотрим, как распределяются на линии пресказания. Для получения предсказания модели используется метод `predict()`."
   ]
  },
  {
   "cell_type": "code",
   "execution_count": 24,
   "metadata": {
    "colab": {
     "base_uri": "https://localhost:8080/",
     "height": 613
    },
    "executionInfo": {
     "elapsed": 8492,
     "status": "ok",
     "timestamp": 1600615336531,
     "user": {
      "displayName": "Алексей Девяткин",
      "photoUrl": "",
      "userId": "11945040185410340858"
     },
     "user_tz": -180
    },
    "id": "NDeIQeeQy6xx",
    "outputId": "4b6a70f4-fff6-448a-9fb2-65622eb12018"
   },
   "outputs": [
    {
     "data": {
      "image/png": "[encoded data removed]",
      "text/plain": [
       "<Figure size 432x288 with 1 Axes>"
      ]
     },
     "metadata": {
      "needs_background": "light"
     },
     "output_type": "display_data"
    }
   ],
   "source": [
    "def draw_predictions_plot(y_pred, y_true):\n",
    "    plt.scatter(y_pred, y_true)\n",
    "    line_pnts = np.linspace(np.amin(y_pred)-0.1, np.amax(y_pred)+0.1, 1000)\n",
    "    plt.plot(line_pnts, line_pnts, 'k--', lw=2)\n",
    "    plt.xlabel('Predicted')\n",
    "    plt.ylabel('True')\n",
    "    plt.grid()\n",
    "\n",
    "y_pred = reg.predict(X_test)\n",
    "draw_predictions_plot(y_pred, y_test)"
   ]
  },
  {
   "cell_type": "markdown",
   "metadata": {
    "id": "5iFBntEOy7Uv"
   },
   "source": [
    "Прямая на графике означает точки, в которых предсказанные значения соответствуют действительным.\n",
    "Как видно на графике, многие точки отклоняются от прямой, но наблюдается общая распределенность точек вокруг линии.\n"
   ]
  },
  {
   "cell_type": "markdown",
   "metadata": {
    "id": "b2_ejlyX5pvN"
   },
   "source": [
    "Помимо отображения точек предсказаний важно также оценить распределение ошибок, что может сказать о возможном смещении результатов."
   ]
  },
  {
   "cell_type": "code",
   "execution_count": 25,
   "metadata": {
    "colab": {
     "base_uri": "https://localhost:8080/",
     "height": 613
    },
    "executionInfo": {
     "elapsed": 8822,
     "status": "ok",
     "timestamp": 1600615336876,
     "user": {
      "displayName": "Алексей Девяткин",
      "photoUrl": "",
      "userId": "11945040185410340858"
     },
     "user_tz": -180
    },
    "id": "aOrU_W4p50ZE",
    "outputId": "cd98e615-6417-40e2-93dd-ee9ffe6bcdbb"
   },
   "outputs": [
    {
     "name": "stderr",
     "output_type": "stream",
     "text": [
      "E:\\Anaconda\\lib\\site-packages\\seaborn\\distributions.py:2551: FutureWarning: `distplot` is a deprecated function and will be removed in a future version. Please adapt your code to use either `displot` (a figure-level function with similar flexibility) or `histplot` (an axes-level function for histograms).\n",
      "  warnings.warn(msg, FutureWarning)\n"
     ]
    },
    {
     "data": {
      "image/png": "[encoded data removed]",
      "text/plain": [
       "<Figure size 432x288 with 1 Axes>"
      ]
     },
     "metadata": {
      "needs_background": "light"
     },
     "output_type": "display_data"
    }
   ],
   "source": [
    "y_residuals = y_pred-y_test\n",
    "sns.distplot(y_residuals, bins=50)\n",
    "plt.grid()"
   ]
  },
  {
   "cell_type": "markdown",
   "metadata": {
    "id": "9gtXHZpi6HUD"
   },
   "source": [
    "Из графика распределения видно, что распределение имеет нормальный характер и центр распределения располагается возле значения 0. При этом имеются единичные отклонения, которые могут характеризоваться выбросами в данных, которые обсуждались ранее."
   ]
  },
  {
   "cell_type": "markdown",
   "metadata": {
    "id": "D49pNhDp6CHJ"
   },
   "source": [
    "\n",
    "После представления точек предсказания важно также оценить численные характеристики. Для этого используются различные метрики. Мы воспользуемся наиболее распространенными: R2, Root Mean Squared Error (RMSE), Mean Absolute Error (MAE). "
   ]
  },
  {
   "cell_type": "code",
   "execution_count": 26,
   "metadata": {
    "colab": {
     "base_uri": "https://localhost:8080/",
     "height": 180
    },
    "executionInfo": {
     "elapsed": 8805,
     "status": "ok",
     "timestamp": 1600615336877,
     "user": {
      "displayName": "Алексей Девяткин",
      "photoUrl": "",
      "userId": "11945040185410340858"
     },
     "user_tz": -180
    },
    "id": "rIj0bbMSmK6L",
    "outputId": "cd3a5cf0-e11e-49f7-be10-2dbf16221716"
   },
   "outputs": [
    {
     "name": "stdout",
     "output_type": "stream",
     "text": [
      "\n",
      "----- Evaluation for train -----\n",
      "  R2: 0.7434997532004697\n",
      "  RMSE: 4.748208239685938\n",
      "  MAE: 3.356826782168201\n",
      "\n",
      "----- Evaluation for test -----\n",
      "  R2: 0.7112260057484903\n",
      "  RMSE: 4.6386899261728445\n",
      "  MAE: 3.162709871457426\n"
     ]
    }
   ],
   "source": [
    "from sklearn.metrics import mean_squared_error, mean_absolute_error, r2_score\n",
    "\n",
    "# При повторении кода лучшей практикой является создание функции \n",
    "#   для исключения дублирований\n",
    "# Дублирование кода -> ошибки\n",
    "def evaluate_regressor(reg, X, y, mode):\n",
    "    y_pred = reg.predict(X)\n",
    "    r2_score_value = r2_score(y, y_pred)\n",
    "    rmse_score = np.sqrt(mean_squared_error(y, y_pred))\n",
    "    mae_score = mean_absolute_error(y, y_pred)\n",
    "\n",
    "    print(f'\\n----- Evaluation for {mode} -----')\n",
    "    print(f'  R2: {r2_score_value}')\n",
    "    print(f'  RMSE: {rmse_score}')\n",
    "    print(f'  MAE: {mae_score}')\n",
    "\n",
    "evaluate_regressor(reg, X_train, y_train, 'train')\n",
    "evaluate_regressor(reg, X_test, y_test, 'test')"
   ]
  },
  {
   "cell_type": "markdown",
   "metadata": {
    "id": "gpu--de3qtaf"
   },
   "source": [
    "По результатам обучения и оценки мы получили **baseline** модель - это модель, которая требует минимум затрат сил и времени для получения первого результата. В данном случае были поданы все данные без очистки и предобработки. Последующие эксперименты нацелены на улучшение показателей (уменьшение MSE, MAE показателей или увеличение R2). "
   ]
  },
  {
   "cell_type": "markdown",
   "metadata": {
    "id": "SZOJ29ONi3y3"
   },
   "source": [
    "## Применение классов трансформации"
   ]
  },
  {
   "cell_type": "markdown",
   "metadata": {
    "id": "tOEaUURZxziL"
   },
   "source": [
    "Одной из базовых практик предобработки численных переменных является **стандартизация**. Это процесс приведения распределения к нулевому среднему и единичному стандартному отклонению.\n",
    "\n",
    "Для стандартизации данных применим класс `StandartScaler`, который в ходе обучения определяет среднее и стандартное отклонение каждого признака и далее применяет их в ходе использования модели.\n",
    "https://scikit-learn.org/stable/modules/generated/sklearn.preprocessing.StandardScaler.html.\n",
    "\n",
    "При использовании стандартизации происходит определение необходимых параметров (среднее, стандартное отклонение) методом `fit()` и дальнейшая предобработка данных методом `transform()`."
   ]
  },
  {
   "cell_type": "code",
   "execution_count": 27,
   "metadata": {
    "colab": {
     "base_uri": "https://localhost:8080/",
     "height": 277
    },
    "executionInfo": {
     "elapsed": 8792,
     "status": "ok",
     "timestamp": 1600615336878,
     "user": {
      "displayName": "Алексей Девяткин",
      "photoUrl": "",
      "userId": "11945040185410340858"
     },
     "user_tz": -180
    },
    "id": "qZiQ8H-OoJ4t",
    "outputId": "07152b81-b106-4109-c38f-62950b07e478"
   },
   "outputs": [
    {
     "name": "stdout",
     "output_type": "stream",
     "text": [
      "\n",
      "----- Weights -----\n",
      "CRIM | -1.108346015417753\n",
      "ZN | 0.8084399775400867\n",
      "INDUS | 0.34313465570479407\n",
      "CHAS | 0.8138642573885848\n",
      "NOX | -1.7980429490588945\n",
      "RM | 2.913857995549767\n",
      "AGE | -0.298939175503921\n",
      "DIS | -2.9425114769806933\n",
      "RAD | 2.094193030043762\n",
      "TAX | -1.4470673128119864\n",
      "PTRATIO | -2.0523223240868194\n",
      "B | 1.0237518746406002\n",
      "LSTAT | -3.8857900211493854\n",
      "Bias: 23.01581920903955\n"
     ]
    }
   ],
   "source": [
    "from sklearn.preprocessing import StandardScaler\n",
    "\n",
    "scaler = StandardScaler()\n",
    "reg = LinearRegression()\n",
    "\n",
    "# \"Обучение\" трансформера - определение параметров средних и отклонений\n",
    "scaler.fit(X_train)\n",
    "\n",
    "# Стандартизация данных\n",
    "X_train_scaled = scaler.transform(X_train)\n",
    "X_test_scaled = scaler.transform(X_test)\n",
    "\n",
    "reg.fit(X_train_scaled, y_train)\n",
    "show_linear_model_weights(reg, X_train.columns)"
   ]
  },
  {
   "cell_type": "markdown",
   "metadata": {
    "id": "QtMuezxw1Y_T"
   },
   "source": [
    "Важно обратить внимание на порядок весов модели. Использование стандартизации делает данные более центрированными и теперь веса больше отражают влияние на результат."
   ]
  },
  {
   "cell_type": "code",
   "execution_count": 28,
   "metadata": {
    "colab": {
     "base_uri": "https://localhost:8080/",
     "height": 228
    },
    "executionInfo": {
     "elapsed": 8777,
     "status": "ok",
     "timestamp": 1600615336880,
     "user": {
      "displayName": "Алексей Девяткин",
      "photoUrl": "",
      "userId": "11945040185410340858"
     },
     "user_tz": -180
    },
    "id": "OuUi0pZq0ev1",
    "outputId": "62a4575f-1292-4404-9a6c-6af139da7a8d"
   },
   "outputs": [
    {
     "name": "stdout",
     "output_type": "stream",
     "text": [
      "CRIM | Mean: 3.4698868644067797 | Std: 68.95769533571193\n",
      "ZN | Mean: 11.403954802259888 | Std: 509.69840243863507\n",
      "INDUS | Mean: 11.133050847457625 | Std: 48.00887148329024\n",
      "CHAS | Mean: 0.07344632768361582 | Std: 0.06805196463340676\n",
      "NOX | Mean: 0.5572593220338984 | Std: 0.013601817610839798\n",
      "RM | Mean: 6.325672316384181 | Std: 0.5158032768042389\n",
      "AGE | Mean: 68.7997175141243 | Std: 763.2100846659645\n",
      "DIS | Mean: 3.7658740112994353 | Std: 4.507242983448881\n",
      "RAD | Mean: 9.437853107344633 | Std: 74.43822815921351\n",
      "TAX | Mean: 407.04237288135596 | Std: 27651.323063295986\n",
      "PTRATIO | Mean: 18.277966101694915 | Std: 5.078723546873504\n",
      "B | Mean: 359.70180790960455 | Std: 7534.572880912254\n",
      "LSTAT | Mean: 12.421129943502825 | Std: 50.443369909668355\n"
     ]
    }
   ],
   "source": [
    "# Отображаем средние значения и стандартные отклонения\n",
    "# Количество значений соответствует количеству признаков\n",
    "means = scaler.mean_\n",
    "stds = scaler.var_\n",
    "\n",
    "pairs = zip(X_test.columns, means, stds)\n",
    "for pair in pairs:\n",
    "    print(f'{pair[0]} | Mean: {pair[1]} | Std: {pair[2]}')"
   ]
  },
  {
   "cell_type": "markdown",
   "metadata": {
    "id": "BClJN62_5jKp"
   },
   "source": [
    "В результате работы с данными и применения различных методов обработки данных были получены базовые модели, описанные показателями метрик точности работы модели. На этом этапе мы кратко освоили базовые приемы, которые позволят провести исследование, предлагаемое в задании."
   ]
  },
  {
   "cell_type": "markdown",
   "metadata": {
    "id": "NvXSPUuHNexH"
   },
   "source": [
    "# Регуляризация"
   ]
  },
  {
   "cell_type": "markdown",
   "metadata": {
    "id": "GhHZI6Gx-ThD"
   },
   "source": [
    "Помимо базового метода линейной регрессии существуют различные модификации. Одной из таких модификаций является метод Ридж (Ridge) регрессии. Основная идея Ридж регресси заключается в добавлении регуляризации по L2 норме. Функция потерь с Ридж регуляризацией выглядит следующим образом $$J=\\|y-X^TW\\|^2_2+\\alpha*\\|W\\|^2_2$$\n",
    "\n",
    "Как видно из функции потерь, минимизация происходит также с учетом величины значений весов, что и является регуляризацией. Регуляризация влияет на обучение путем удержания величины весов для исключения слишком сильного влияния признаков на работу модели, что на практике приводит к некорректным результатам."
   ]
  },
  {
   "cell_type": "markdown",
   "metadata": {
    "id": "hkRZfmJt5hEn"
   },
   "source": [
    "# Задание"
   ]
  },
  {
   "cell_type": "markdown",
   "metadata": {
    "id": "W4o6uYGX6BPZ"
   },
   "source": [
    "Требуется создать ноутбук, в котором будут проведены эксперименты с инструментами `sklearn`.\n",
    "\n",
    "Задачи:\n",
    "* Произведите базовую подготовку данных;\n",
    "* Создайте baseline модель линейной регрессии;\n",
    "---\n",
    "* Произведите расширенный анализ данных:\n",
    "    - Оцените корреляции признаков;\n",
    "    - Оцените распределения признаков;\n",
    "    - Оцените характер зависимости целевой переменной от каждого признака;\n",
    "    - Напишите свои выводы по результатам анализа.\n",
    "\n",
    "* Изучите работу инструментов нормализации данных:\n",
    "    - Примените трансформер `sklearn.preprocessing.StandardScaler` к данным, отобразите распределения после обработки, обучите модель на обрабтанных данных и оцените показатели;\n",
    "    - Примените трансформер `sklearn.preprocessing.MinMaxScaler` к данным, отобразите распределения после обработки, обучите модель на обрабтанных данных и оцените показатели;\n",
    "    - Сравните результаты и сделайте выводы.\n",
    "\n",
    "* Изучите работу инструментов выравнивания распределений:\n",
    "    - Примените трансформер `sklearn.preprocessing.PowerTransformer` к данным, отобразите распределения после обработки, обучите модель на обработанных данных и оцените показатели;\n",
    "    - Примените трансформер `sklearn.preprocessing.QuantileTransformer(output_distribution='normal')` к данным, отобразите распределения после обработки, обучите модель на обработанных данных и оцените показатели;\n",
    "    - Сравните результаты и сделайте выводы.\n",
    "\n",
    "* Исключите выбросы на уровне `PRICE == 50` из данных, обучите модель и оцените показатели;\n",
    "\n",
    "* Оцените работу модели при исключении каждого признака [13 экспериментов] (результаты представить в виде таблицы `DataFrame` с указание исключенного признака и показателей метрик);\n",
    "\n",
    "* Примените трансформер `sklearn.preprocessing.PolynomialFeatures` для генерации признака `LSTAT` в квадрате, обучите модель на данных с новым признаком, оцените работу модели;\n",
    "\n",
    "---\n",
    "* Создайте базовую модель Ридж регрессии https://scikit-learn.org/stable/modules/generated/sklearn.linear_model.Ridge.html;\n",
    "\n",
    "* Испытайте работу модели при использовании различных методов нормализации и выравнивания распределений;\n",
    "\n",
    "* Оцените работу модели при различных $\\alpha$ (изучить не менее 7 различных значений) и отобразите на графике (y-axis ~ R2, x-axis ~ log(alpha));\n",
    "\n",
    "---\n",
    "* Разработайте лучшую модель с необходимой предобработкой для решения задачи;\n",
    "* Написать выводы по результатам.\n",
    "\n",
    "> **Не забывайте разбивать ноутбук на секции, использовать функции, делать выполнение ноутбука последовательным.** "
   ]
  },
  {
   "cell_type": "markdown",
   "metadata": {
    "id": "vsFFXj4Bfuif"
   },
   "source": [
    "# Вопросы\n",
    "\n",
    "- Какую задачу выполняет `QuantileTransformer`?\n",
    "- За что отвечает аргумент конструктора `output_distribution` класса `QuantileTransformer`?\n",
    "- В чем отличие Ридж регрессии от линейной регрессии?\n",
    "- Что такое регуляризация?\n",
    "- Как сказывается станартизация данных на результатах обучения с использованием регуляризации?\n",
    "- Как сказывается применение `QuantileTransformer` на результатах обучения с использованием регуляризации?\n",
    "- Как влияет значение $\\alpha$ на результаты обучения Ридж регрессии?"
   ]
  }
 ],
 "metadata": {
  "colab": {
   "authorship_tag": "ABX9TyP0jlmEs65zj05B+EFj3xfc",
   "collapsed_sections": [],
   "name": "Lab1_LinReg.ipynb",
   "provenance": [],
   "toc_visible": true
  },
  "kernelspec": {
   "display_name": "Python 3",
   "language": "python",
   "name": "python3"
  },
  "language_info": {
   "codemirror_mode": {
    "name": "ipython",
    "version": 3
   },
   "file_extension": ".py",
   "mimetype": "text/x-python",
   "name": "python",
   "nbconvert_exporter": "python",
   "pygments_lexer": "ipython3",
   "version": "3.7.4"
  }
 },
 "nbformat": 4,
 "nbformat_minor": 1
}
